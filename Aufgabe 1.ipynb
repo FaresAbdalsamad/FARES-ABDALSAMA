{
  "metadata": {
    "language_info": {
      "codemirror_mode": {
        "name": "python",
        "version": 3
      },
      "file_extension": ".py",
      "mimetype": "text/x-python",
      "name": "python",
      "nbconvert_exporter": "python",
      "pygments_lexer": "ipython3",
      "version": "3.8"
    },
    "kernelspec": {
      "name": "python",
      "display_name": "Python (Pyodide)",
      "language": "python"
    }
  },
  "nbformat_minor": 4,
  "nbformat": 4,
  "cells": [
    {
      "cell_type": "code",
      "source": "import numpy as np\n\ntensor = np.arange(1, 101).reshape(10, 10)\n\nprint(tensor)\n",
      "metadata": {
        "trusted": true
      },
      "execution_count": 2,
      "outputs": [
        {
          "name": "stdout",
          "text": "[[  1   2   3   4   5   6   7   8   9  10]\n [ 11  12  13  14  15  16  17  18  19  20]\n [ 21  22  23  24  25  26  27  28  29  30]\n [ 31  32  33  34  35  36  37  38  39  40]\n [ 41  42  43  44  45  46  47  48  49  50]\n [ 51  52  53  54  55  56  57  58  59  60]\n [ 61  62  63  64  65  66  67  68  69  70]\n [ 71  72  73  74  75  76  77  78  79  80]\n [ 81  82  83  84  85  86  87  88  89  90]\n [ 91  92  93  94  95  96  97  98  99 100]]\n",
          "output_type": "stream"
        }
      ]
    },
    {
      "cell_type": "code",
      "source": "",
      "metadata": {},
      "execution_count": null,
      "outputs": []
    }
  ]
}